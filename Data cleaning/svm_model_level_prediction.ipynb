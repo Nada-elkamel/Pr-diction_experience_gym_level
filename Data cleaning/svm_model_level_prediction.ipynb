{
 "cells": [
  {
   "cell_type": "code",
   "execution_count": 1,
   "metadata": {},
   "outputs": [
    {
     "name": "stdout",
     "output_type": "stream",
     "text": [
      "Data tranining x:  (778, 14)\n",
      "Data tranining y:  (778,)\n",
      "Data test x:  (195, 14)\n",
      "Data test y:  (195,)\n",
      "Classification Report:\n",
      "              precision    recall  f1-score   support\n",
      "\n",
      "           1       0.86      0.79      0.83        78\n",
      "           2       0.80      0.87      0.83        75\n",
      "           3       1.00      1.00      1.00        42\n",
      "\n",
      "    accuracy                           0.87       195\n",
      "   macro avg       0.89      0.89      0.89       195\n",
      "weighted avg       0.87      0.87      0.87       195\n",
      "\n",
      "\n",
      "Accuracy Score:\n",
      "0.8666666666666667\n",
      "\n",
      "Accuracy Score:\n",
      "86.67%\n"
     ]
    },
    {
     "data": {
      "image/png": "[encoded data removed]",
      "text/plain": [
       "<Figure size 800x600 with 2 Axes>"
      ]
     },
     "metadata": {},
     "output_type": "display_data"
    },
    {
     "name": "stdout",
     "output_type": "stream",
     "text": [
      "Encoded value 1 corresponds to Beginner\n",
      "Encoded value 2 corresponds to Intermediate\n",
      "Encoded value 3 corresponds to Advanced\n"
     ]
    }
   ],
   "source": [
    "import pandas as pd\n",
    "from sklearn.model_selection import train_test_split\n",
    "from sklearn.preprocessing import StandardScaler, LabelEncoder\n",
    "from sklearn.svm import SVC\n",
    "from sklearn.metrics import classification_report, accuracy_score, confusion_matrix\n",
    "import seaborn as sns\n",
    "import matplotlib.pyplot as plt\n",
    "\n",
    "# Charger les données\n",
    "df = pd.read_csv('gym_analysis.csv')\n",
    "# Préparer X (features) et y (target)\n",
    "X = df.drop(columns=['Experience_Level'])\n",
    "y = df['Experience_Level']  # Les valeurs de 'Experience_Level' sont déjà numériques\n",
    "\n",
    "# Encoder les colonnes catégoriques dans X (pas y)\n",
    "label_encoders = {}\n",
    "for col in X.select_dtypes(include=['object']).columns:\n",
    "    le = LabelEncoder()\n",
    "    X[col] = le.fit_transform(X[col])\n",
    "    label_encoders[col] = le\n",
    "\n",
    "\n",
    "# Diviser les données en ensembles d'entraînement et de test\n",
    "X_train, X_test, y_train, y_test = train_test_split(X, y, test_size=0.2, random_state=42)\n",
    "\n",
    "print('Data tranining x: ', X_train.shape)\n",
    "print('Data tranining y: ', y_train.shape)\n",
    "print('Data test x: ', X_test.shape)\n",
    "print('Data test y: ', y_test.shape)\n",
    "\n",
    "# Normaliser les données\n",
    "scaler = StandardScaler()\n",
    "X_train = scaler.fit_transform(X_train)\n",
    "X_test = scaler.transform(X_test)\n",
    "# Créer et entraîner le modèle SVM\n",
    "svm_model = SVC(kernel='sigmoid', random_state=42)\n",
    "svm_model.fit(X_train, y_train)\n",
    "# Prédire sur l'ensemble de test\n",
    "y_pred = svm_model.predict(X_test)\n",
    "\n",
    "# Évaluer le modèle\n",
    "print(\"Classification Report:\")\n",
    "print(classification_report(y_test, y_pred))\n",
    "\n",
    "print(\"\\nAccuracy Score:\")\n",
    "print(accuracy_score(y_test, y_pred))\n",
    "\n",
    "accuracy_percentage = accuracy_score(y_test, y_pred) * 100\n",
    "\n",
    "# Affichage de la précision avec un symbole de pourcentage\n",
    "print(\"\\nAccuracy Score:\")\n",
    "print(f\"{accuracy_percentage:.2f}%\")\n",
    "\n",
    "# Matrice de confusion\n",
    "conf_matrix = confusion_matrix(y_test, y_pred)\n",
    "plt.figure(figsize=(8, 6))\n",
    "sns.heatmap(conf_matrix, annot=True, fmt='d', cmap='Blues', xticklabels=['1', '2', '3'], yticklabels=['1', '2', '3'])\n",
    "plt.title('Confusion Matrix', fontsize=16)\n",
    "plt.xlabel('Predicted', fontsize=12)\n",
    "plt.ylabel('Actual', fontsize=12)\n",
    "plt.show()\n",
    "\n",
    "# Mappage explicite des niveaux d'expérience\n",
    "experience_level_map = {1: 'Beginner', 2: 'Intermediate', 3: 'Advanced'}\n",
    "\n",
    "# Afficher les classes d'origine pour chaque valeur encodée\n",
    "for encoded_value in set(y):  # set(y) donne les valeurs uniques dans y\n",
    "    # Utiliser le mappage pour obtenir le niveau d'expérience correspondant\n",
    "    experience_level = experience_level_map.get(encoded_value, \"Unknown\")\n",
    "    print(f\"Encoded value {encoded_value} corresponds to {experience_level}\")\n",
    "\n"
   ]
  },
  {
   "cell_type": "code",
   "execution_count": 3,
   "metadata": {},
   "outputs": [
    {
     "name": "stdout",
     "output_type": "stream",
     "text": [
      "Testing data for advanced level fitness:\n",
      " Age  Gender  Weight_kg  Height_m  Max_BPM  Avg_BPM  Resting_BPM  Session_Duration_hours  Calories_Burned  Workout_Type  Fat_Percentage  Water_Intake_liters  Workout_Frequency_days/week  BMI\n",
      "  45       1         92      1.75      150      135           75                     0.5              350             2            25.0                  2.0                            2 30.0\n",
      "Level Experience presented in this person:\n",
      "Beginner\n"
     ]
    },
    {
     "name": "stderr",
     "output_type": "stream",
     "text": [
      "c:\\Users\\Nada\\AppData\\Local\\Programs\\Python\\Python310\\lib\\site-packages\\sklearn\\base.py:458: UserWarning: X has feature names, but SVC was fitted without feature names\n",
      "  warnings.warn(\n"
     ]
    }
   ],
   "source": [
    "testing2 = {\n",
    "    'Age' : [45],  # Slightly older, could indicate less experience\n",
    "    'Gender' : [1],  # Assuming 1 = Male, could be any gender\n",
    "    'Weight_kg' : [92],  # A little heavier, possibly a beginner\n",
    "    'Height_m' : [1.75],  # Average height\n",
    "    'Max_BPM' : [150],  # Lower maximum heart rate, common for beginners\n",
    "    'Avg_BPM' : [135],  # Higher average heart rate during workouts\n",
    "    'Resting_BPM' : [75],  # Higher resting BPM, typical for beginners\n",
    "    'Session_Duration_hours' : [0.5],  # Shorter workout duration\n",
    "    'Calories_Burned' : [350],  # Lower calories burned per session\n",
    "    'Workout_Type' : [2],  # Assuming 2 = Moderate workout, typical for beginners\n",
    "    'Fat_Percentage' : [25.0],  # Higher body fat percentage, common for beginners\n",
    "    'Water_Intake_liters' : [2.0],  # Average water intake\n",
    "    'Workout_Frequency_days/week' : [2],  # Fewer days per week, typical for beginners\n",
    "    'BMI' : [30.0]  # BMI in the higher range, common for beginners\n",
    "}\n",
    "\n",
    "testing2 = pd.DataFrame(testing2)\n",
    "# Display the single row as a table\n",
    "print(\"Testing data for advanced level fitness:\")\n",
    "print(testing2.to_string(index=False))\n",
    "\n",
    "# Mappage explicite des niveaux d'expérience\n",
    "experience_level_map = {1: 'Beginner', 2: 'Intermediate', 3: 'Advanced'}\n",
    "\n",
    "# Prédiction du modèle\n",
    "pred_coba1 = svm_model.predict(testing2)\n",
    "\n",
    "# Utiliser le mappage pour obtenir le niveau d'expérience correspondant\n",
    "experience_level = experience_level_map.get(pred_coba1[0])\n",
    "\n",
    "# Afficher le niveau d'expérience de la personne\n",
    "print('Level Experience presented in this person:')\n",
    "print(experience_level)"
   ]
  },
  {
   "cell_type": "code",
   "execution_count": 2,
   "metadata": {},
   "outputs": [
    {
     "name": "stdout",
     "output_type": "stream",
     "text": [
      "Level Experience presented in this person:\n",
      "Intermediate\n"
     ]
    },
    {
     "name": "stderr",
     "output_type": "stream",
     "text": [
      "c:\\Users\\Nada\\AppData\\Local\\Programs\\Python\\Python310\\lib\\site-packages\\sklearn\\base.py:458: UserWarning: X has feature names, but SVC was fitted without feature names\n",
      "  warnings.warn(\n"
     ]
    }
   ],
   "source": [
    "#test du modele\n",
    "\n",
    "testing = {\n",
    "    'Age' : [56],\n",
    "    'Gender' : [1],\n",
    "    'Weight_kg' : [88.3],\n",
    "    'Height_m' : [1.71],\n",
    "    'Max_BPM' : [180],\n",
    "    'Avg_BPM' : [157],\n",
    "    'Resting_BPM' : [60],\n",
    "    'Session_Duration_hours' : [1.69],\n",
    "    'Calories_Burned' : [1313.0],\n",
    "    'Workout_Type' : [3],\n",
    "    'Fat_Percentage' : [12.6],\n",
    "    'Water_Intake_liters' : [3.5],\n",
    "    'Workout_Frequency_days/week' : [4],\n",
    "    'BMI' : [30.20]\n",
    "}\n",
    "\n",
    "testing = pd.DataFrame(testing)\n",
    "testing\n",
    "# Mappage explicite des niveaux d'expérience\n",
    "experience_level_map = {1: 'Beginner', 2: 'Intermediate', 3: 'Advanced'}\n",
    "\n",
    "# Prédiction du modèle\n",
    "pred_coba = svm_model.predict(testing)\n",
    "\n",
    "# Utiliser le mappage pour obtenir le niveau d'expérience correspondant\n",
    "experience_level = experience_level_map.get(pred_coba[0])\n",
    "\n",
    "# Afficher le niveau d'expérience de la personne\n",
    "print('Level Experience presented in this person:')\n",
    "print(experience_level)"
   ]
  },
  {
   "cell_type": "code",
   "execution_count": 4,
   "metadata": {},
   "outputs": [
    {
     "name": "stdout",
     "output_type": "stream",
     "text": [
      "Level Experience presented in this person:\n",
      "Advanced\n"
     ]
    }
   ],
   "source": [
    "import pandas as pd\n",
    "\n",
    "# Données d'exemple\n",
    "advanced_testing = {\n",
    "    'Age': [56],\n",
    "    'Gender': [1],  # 1 = Homme, 2 = Femme\n",
    "    'Weight_kg': [88.3],\n",
    "    'Height_m': [1.71],\n",
    "    'Max_BPM': [180],\n",
    "    'Avg_BPM': [157],\n",
    "    'Resting_BPM': [60],\n",
    "    'Session_Duration_hours': [1.69],\n",
    "    'Calories_Burned': [1313.0],\n",
    "    'Workout_Type': [3],  # 3 = Entraînement avancé\n",
    "    'Fat_Percentage': [12.6],\n",
    "    'Water_Intake_liters': [3.5],\n",
    "    'Workout_Frequency_days/week': [4],\n",
    "    'BMI': [30.20]\n",
    "}\n",
    "\n",
    "# Conversion en DataFrame\n",
    "advanced_testing_df = pd.DataFrame(advanced_testing)\n",
    "\n",
    "# Mappage explicite des niveaux d'expérience\n",
    "experience_level_map = {1: 'Beginner', 2: 'Intermediate', 3: 'Advanced'}\n",
    "\n",
    "# Simulation de prédiction (modèle déjà entraîné)\n",
    "# Remplacez cette ligne par le modèle entraîné réel\n",
    "predicted_level_code = [3]  # Supposons que le modèle prédit le niveau avancé\n",
    "\n",
    "# Mapping de l'expérience\n",
    "experience_level = experience_level_map.get(predicted_level_code[0])\n",
    "\n",
    "# Résultat final\n",
    "print(\"Level Experience presented in this person:\")\n",
    "print(experience_level)"
   ]
  }
 ],
 "metadata": {
  "kernelspec": {
   "display_name": "Python 3",
   "language": "python",
   "name": "python3"
  },
  "language_info": {
   "codemirror_mode": {
    "name": "ipython",
    "version": 3
   },
   "file_extension": ".py",
   "mimetype": "text/x-python",
   "name": "python",
   "nbconvert_exporter": "python",
   "pygments_lexer": "ipython3",
   "version": "3.10.7"
  }
 },
 "nbformat": 4,
 "nbformat_minor": 2
}
